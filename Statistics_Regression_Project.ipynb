{
 "cells": [
  {
   "cell_type": "markdown",
   "metadata": {},
   "source": [
    "### Load Dataframe"
   ]
  },
  {
   "cell_type": "code",
   "execution_count": 5,
   "metadata": {
    "collapsed": false
   },
   "outputs": [
    {
     "name": "stderr",
     "output_type": "stream",
     "text": [
      "The following objects are masked from bikeshare (pos = 3):\n",
      "\n",
      "    atemp, casual, cnt, dteday, holiday, hum, instant, mnth,\n",
      "    registered, season, temp, weathersit, weekday, windspeed,\n",
      "    workingday, yr\n",
      "\n"
     ]
    }
   ],
   "source": [
    "setwd(\"A:/Carlson Minnesota/Summer 2016/MSBA 6120 Introduction to Statistics for Data Scientists/Project/Bike-Sharing-Dataset\")\n",
    "bikeshare <- read.csv(\"day.csv\", header=TRUE)\n",
    "attach(bikeshare)"
   ]
  },
  {
   "cell_type": "code",
   "execution_count": 54,
   "metadata": {
    "collapsed": false
   },
   "outputs": [
    {
     "name": "stdout",
     "output_type": "stream",
     "text": [
      "'data.frame':\t731 obs. of  16 variables:\n",
      " $ instant   : int  1 2 3 4 5 6 7 8 9 10 ...\n",
      " $ dteday    : Factor w/ 731 levels \"2011-01-01\",\"2011-01-02\",..: 1 2 3 4 5 6 7 8 9 10 ...\n",
      " $ season    : int  1 1 1 1 1 1 1 1 1 1 ...\n",
      " $ yr        : int  0 0 0 0 0 0 0 0 0 0 ...\n",
      " $ mnth      : int  1 1 1 1 1 1 1 1 1 1 ...\n",
      " $ holiday   : int  0 0 0 0 0 0 0 0 0 0 ...\n",
      " $ weekday   : int  6 0 1 2 3 4 5 6 0 1 ...\n",
      " $ workingday: int  0 0 1 1 1 1 1 0 0 1 ...\n",
      " $ weathersit: int  2 2 1 1 1 1 2 2 1 1 ...\n",
      " $ temp      : num  0.344 0.363 0.196 0.2 0.227 ...\n",
      " $ atemp     : num  0.364 0.354 0.189 0.212 0.229 ...\n",
      " $ hum       : num  0.806 0.696 0.437 0.59 0.437 ...\n",
      " $ windspeed : num  0.16 0.249 0.248 0.16 0.187 ...\n",
      " $ casual    : int  331 131 120 108 82 88 148 68 54 41 ...\n",
      " $ registered: int  654 670 1229 1454 1518 1518 1362 891 768 1280 ...\n",
      " $ cnt       : int  985 801 1349 1562 1600 1606 1510 959 822 1321 ...\n"
     ]
    }
   ],
   "source": [
    "str(bikeshare)"
   ]
  },
  {
   "cell_type": "code",
   "execution_count": 55,
   "metadata": {
    "collapsed": false
   },
   "outputs": [
    {
     "data": {
      "text/plain": [
       "    instant             dteday        season            yr        \n",
       " Min.   :  1.0   2011-01-01:  1   Min.   :1.000   Min.   :0.0000  \n",
       " 1st Qu.:183.5   2011-01-02:  1   1st Qu.:2.000   1st Qu.:0.0000  \n",
       " Median :366.0   2011-01-03:  1   Median :3.000   Median :1.0000  \n",
       " Mean   :366.0   2011-01-04:  1   Mean   :2.497   Mean   :0.5007  \n",
       " 3rd Qu.:548.5   2011-01-05:  1   3rd Qu.:3.000   3rd Qu.:1.0000  \n",
       " Max.   :731.0   2011-01-06:  1   Max.   :4.000   Max.   :1.0000  \n",
       "                 (Other)   :725                                   \n",
       "      mnth          holiday           weekday        workingday   \n",
       " Min.   : 1.00   Min.   :0.00000   Min.   :0.000   Min.   :0.000  \n",
       " 1st Qu.: 4.00   1st Qu.:0.00000   1st Qu.:1.000   1st Qu.:0.000  \n",
       " Median : 7.00   Median :0.00000   Median :3.000   Median :1.000  \n",
       " Mean   : 6.52   Mean   :0.02873   Mean   :2.997   Mean   :0.684  \n",
       " 3rd Qu.:10.00   3rd Qu.:0.00000   3rd Qu.:5.000   3rd Qu.:1.000  \n",
       " Max.   :12.00   Max.   :1.00000   Max.   :6.000   Max.   :1.000  \n",
       "                                                                  \n",
       "   weathersit         temp             atemp              hum        \n",
       " Min.   :1.000   Min.   :0.05913   Min.   :0.07907   Min.   :0.0000  \n",
       " 1st Qu.:1.000   1st Qu.:0.33708   1st Qu.:0.33784   1st Qu.:0.5200  \n",
       " Median :1.000   Median :0.49833   Median :0.48673   Median :0.6267  \n",
       " Mean   :1.395   Mean   :0.49538   Mean   :0.47435   Mean   :0.6279  \n",
       " 3rd Qu.:2.000   3rd Qu.:0.65542   3rd Qu.:0.60860   3rd Qu.:0.7302  \n",
       " Max.   :3.000   Max.   :0.86167   Max.   :0.84090   Max.   :0.9725  \n",
       "                                                                     \n",
       "   windspeed           casual         registered        cnt      \n",
       " Min.   :0.02239   Min.   :   2.0   Min.   :  20   Min.   :  22  \n",
       " 1st Qu.:0.13495   1st Qu.: 315.5   1st Qu.:2497   1st Qu.:3152  \n",
       " Median :0.18097   Median : 713.0   Median :3662   Median :4548  \n",
       " Mean   :0.19049   Mean   : 848.2   Mean   :3656   Mean   :4504  \n",
       " 3rd Qu.:0.23321   3rd Qu.:1096.0   3rd Qu.:4776   3rd Qu.:5956  \n",
       " Max.   :0.50746   Max.   :3410.0   Max.   :6946   Max.   :8714  \n",
       "                                                                 "
      ]
     },
     "metadata": {},
     "output_type": "display_data"
    }
   ],
   "source": [
    "summary(bikeshare)"
   ]
  },
  {
   "cell_type": "markdown",
   "metadata": {},
   "source": [
    "### Multiple Regression"
   ]
  },
  {
   "cell_type": "code",
   "execution_count": 6,
   "metadata": {
    "collapsed": false
   },
   "outputs": [
    {
     "data": {
      "text/plain": [
       "\n",
       "Call:\n",
       "lm(formula = cnt ~ factor(season) + yr + factor(mnth) + holiday + \n",
       "    factor(weekday) + workingday + factor(weathersit) + temp + \n",
       "    atemp + hum + windspeed)\n",
       "\n",
       "Residuals:\n",
       "    Min      1Q  Median      3Q     Max \n",
       "-3944.7  -348.2    63.8   457.4  2912.7 \n",
       "\n",
       "Coefficients: (1 not defined because of singularities)\n",
       "                    Estimate Std. Error t value Pr(>|t|)    \n",
       "(Intercept)          1485.84     239.75   6.198 9.77e-10 ***\n",
       "factor(season)2       884.71     179.49   4.929 1.03e-06 ***\n",
       "factor(season)3       832.70     213.13   3.907 0.000102 ***\n",
       "factor(season)4      1575.35     181.00   8.704  < 2e-16 ***\n",
       "yr                   2019.74      58.22  34.691  < 2e-16 ***\n",
       "factor(mnth)2         131.03     143.78   0.911 0.362443    \n",
       "factor(mnth)3         542.83     165.43   3.281 0.001085 ** \n",
       "factor(mnth)4         451.17     247.57   1.822 0.068820 .  \n",
       "factor(mnth)5         735.51     267.63   2.748 0.006145 ** \n",
       "factor(mnth)6         515.40     282.41   1.825 0.068423 .  \n",
       "factor(mnth)7          30.80     313.82   0.098 0.921854    \n",
       "factor(mnth)8         444.95     303.17   1.468 0.142639    \n",
       "factor(mnth)9        1004.17     265.12   3.788 0.000165 ***\n",
       "factor(mnth)10        519.67     241.55   2.151 0.031787 *  \n",
       "factor(mnth)11       -116.69     230.78  -0.506 0.613257    \n",
       "factor(mnth)12        -89.59     182.21  -0.492 0.623098    \n",
       "holiday              -589.70     180.36  -3.270 0.001130 ** \n",
       "factor(weekday)1      212.05     109.49   1.937 0.053187 .  \n",
       "factor(weekday)2      309.53     107.13   2.889 0.003982 ** \n",
       "factor(weekday)3      381.36     107.48   3.548 0.000414 ***\n",
       "factor(weekday)4      386.34     107.53   3.593 0.000350 ***\n",
       "factor(weekday)5      436.98     107.44   4.067 5.30e-05 ***\n",
       "factor(weekday)6      440.46     106.56   4.133 4.01e-05 ***\n",
       "workingday                NA         NA      NA       NA    \n",
       "factor(weathersit)2  -462.54      77.09  -6.000 3.16e-09 ***\n",
       "factor(weathersit)3 -1965.09     197.05  -9.972  < 2e-16 ***\n",
       "temp                 2855.01    1398.16   2.042 0.041526 *  \n",
       "atemp                1786.16    1462.12   1.222 0.222261    \n",
       "hum                 -1535.47     292.45  -5.250 2.01e-07 ***\n",
       "windspeed           -2823.30     414.55  -6.810 2.09e-11 ***\n",
       "---\n",
       "Signif. codes:  0 '***' 0.001 '**' 0.01 '*' 0.05 '.' 0.1 ' ' 1\n",
       "\n",
       "Residual standard error: 769.2 on 702 degrees of freedom\n",
       "Multiple R-squared:  0.8484,\tAdjusted R-squared:  0.8423 \n",
       "F-statistic: 140.3 on 28 and 702 DF,  p-value: < 2.2e-16\n"
      ]
     },
     "metadata": {},
     "output_type": "display_data"
    }
   ],
   "source": [
    "set.seed(1)\n",
    "\n",
    "#Model with all variables\n",
    "r1 <- lm(cnt ~ factor(season) + yr + factor(mnth) + holiday + factor(weekday) + workingday + \n",
    "           factor(weathersit) + temp + atemp + hum + windspeed)\n",
    "summary(r1)"
   ]
  },
  {
   "cell_type": "markdown",
   "metadata": {},
   "source": [
    "In our model, since workingday predictor is directly linked to the weekday predictor, it has been dropped in R for the \n",
    "multiple regression. We deem weekday to be a more valuable indicator as it provides analysis at a more granular level than \n",
    "just knowing whether it was a weekday or not and hence proceed with dropping workingday from our model as a predictor. \n",
    "\n",
    "Also note that for the factor based predictors (season, mnth, weekday & weathersit), atleast one of the levels has a \n",
    "significant p-value at alpha=0.5 and hence there is no need to change the base for any of the predictors."
   ]
  },
  {
   "cell_type": "code",
   "execution_count": 7,
   "metadata": {
    "collapsed": false
   },
   "outputs": [
    {
     "data": {
      "text/plain": [
       "\n",
       "Call:\n",
       "lm(formula = cnt ~ factor(season) + yr + factor(mnth) + holiday + \n",
       "    factor(weekday) + factor(weathersit) + temp + atemp + hum + \n",
       "    windspeed)\n",
       "\n",
       "Residuals:\n",
       "    Min      1Q  Median      3Q     Max \n",
       "-3944.7  -348.2    63.8   457.4  2912.7 \n",
       "\n",
       "Coefficients:\n",
       "                    Estimate Std. Error t value Pr(>|t|)    \n",
       "(Intercept)          1485.84     239.75   6.198 9.77e-10 ***\n",
       "factor(season)2       884.71     179.49   4.929 1.03e-06 ***\n",
       "factor(season)3       832.70     213.13   3.907 0.000102 ***\n",
       "factor(season)4      1575.35     181.00   8.704  < 2e-16 ***\n",
       "yr                   2019.74      58.22  34.691  < 2e-16 ***\n",
       "factor(mnth)2         131.03     143.78   0.911 0.362443    \n",
       "factor(mnth)3         542.83     165.43   3.281 0.001085 ** \n",
       "factor(mnth)4         451.17     247.57   1.822 0.068820 .  \n",
       "factor(mnth)5         735.51     267.63   2.748 0.006145 ** \n",
       "factor(mnth)6         515.40     282.41   1.825 0.068423 .  \n",
       "factor(mnth)7          30.80     313.82   0.098 0.921854    \n",
       "factor(mnth)8         444.95     303.17   1.468 0.142639    \n",
       "factor(mnth)9        1004.17     265.12   3.788 0.000165 ***\n",
       "factor(mnth)10        519.67     241.55   2.151 0.031787 *  \n",
       "factor(mnth)11       -116.69     230.78  -0.506 0.613257    \n",
       "factor(mnth)12        -89.59     182.21  -0.492 0.623098    \n",
       "holiday              -589.70     180.36  -3.270 0.001130 ** \n",
       "factor(weekday)1      212.05     109.49   1.937 0.053187 .  \n",
       "factor(weekday)2      309.53     107.13   2.889 0.003982 ** \n",
       "factor(weekday)3      381.36     107.48   3.548 0.000414 ***\n",
       "factor(weekday)4      386.34     107.53   3.593 0.000350 ***\n",
       "factor(weekday)5      436.98     107.44   4.067 5.30e-05 ***\n",
       "factor(weekday)6      440.46     106.56   4.133 4.01e-05 ***\n",
       "factor(weathersit)2  -462.54      77.09  -6.000 3.16e-09 ***\n",
       "factor(weathersit)3 -1965.09     197.05  -9.972  < 2e-16 ***\n",
       "temp                 2855.01    1398.16   2.042 0.041526 *  \n",
       "atemp                1786.16    1462.12   1.222 0.222261    \n",
       "hum                 -1535.47     292.45  -5.250 2.01e-07 ***\n",
       "windspeed           -2823.30     414.55  -6.810 2.09e-11 ***\n",
       "---\n",
       "Signif. codes:  0 '***' 0.001 '**' 0.01 '*' 0.05 '.' 0.1 ' ' 1\n",
       "\n",
       "Residual standard error: 769.2 on 702 degrees of freedom\n",
       "Multiple R-squared:  0.8484,\tAdjusted R-squared:  0.8423 \n",
       "F-statistic: 140.3 on 28 and 702 DF,  p-value: < 2.2e-16\n"
      ]
     },
     "metadata": {},
     "output_type": "display_data"
    }
   ],
   "source": [
    "set.seed(1)\n",
    "\n",
    "#Model with all variables (dropped workingday at alpha = 0.05)\n",
    "r2 <- lm(cnt ~ factor(season)+ yr + factor(mnth) + holiday + factor(weekday) +\n",
    "           factor(weathersit)+ temp + atemp + hum + windspeed)\n",
    "summary(r2)"
   ]
  },
  {
   "cell_type": "code",
   "execution_count": 8,
   "metadata": {
    "collapsed": false
   },
   "outputs": [
    {
     "data": {
      "text/plain": [
       "\n",
       "Call:\n",
       "lm(formula = cnt ~ factor(season) + yr + factor(mnth) + holiday + \n",
       "    factor(weekday) + factor(weathersit) + temp + hum + windspeed)\n",
       "\n",
       "Residuals:\n",
       "    Min      1Q  Median      3Q     Max \n",
       "-3960.9  -350.9    74.1   456.0  2919.9 \n",
       "\n",
       "Coefficients:\n",
       "                     Estimate Std. Error t value Pr(>|t|)    \n",
       "(Intercept)          1543.552    235.129   6.565 1.01e-10 ***\n",
       "factor(season)2       889.302    179.516   4.954 9.12e-07 ***\n",
       "factor(season)3       832.236    213.204   3.903 0.000104 ***\n",
       "factor(season)4      1578.947    181.040   8.722  < 2e-16 ***\n",
       "yr                   2018.063     58.225  34.660  < 2e-16 ***\n",
       "factor(mnth)2         136.855    143.747   0.952 0.341396    \n",
       "factor(mnth)3         545.132    165.480   3.294 0.001036 ** \n",
       "factor(mnth)4         456.494    247.615   1.844 0.065667 .  \n",
       "factor(mnth)5         723.520    267.541   2.704 0.007010 ** \n",
       "factor(mnth)6         490.552    281.776   1.741 0.082133 .  \n",
       "factor(mnth)7           8.404    313.395   0.027 0.978613    \n",
       "factor(mnth)8         404.912    301.494   1.343 0.179700    \n",
       "factor(mnth)9         983.948    264.698   3.717 0.000217 ***\n",
       "factor(mnth)10        520.937    241.636   2.156 0.031432 *  \n",
       "factor(mnth)11       -111.362    230.816  -0.482 0.629621    \n",
       "factor(mnth)12        -84.389    182.229  -0.463 0.643439    \n",
       "holiday              -603.605    180.066  -3.352 0.000845 ***\n",
       "factor(weekday)1      214.877    109.508   1.962 0.050133 .  \n",
       "factor(weekday)2      309.132    107.171   2.884 0.004041 ** \n",
       "factor(weekday)3      377.407    107.467   3.512 0.000473 ***\n",
       "factor(weekday)4      385.206    107.562   3.581 0.000366 ***\n",
       "factor(weekday)5      428.604    107.258   3.996 7.12e-05 ***\n",
       "factor(weekday)6      438.699    106.590   4.116 4.32e-05 ***\n",
       "factor(weathersit)2  -465.202     77.083  -6.035 2.57e-09 ***\n",
       "factor(weathersit)3 -1981.357    196.670 -10.075  < 2e-16 ***\n",
       "temp                 4487.305    411.838  10.896  < 2e-16 ***\n",
       "hum                 -1518.178    292.208  -5.196 2.68e-07 ***\n",
       "windspeed           -2925.438    406.175  -7.202 1.53e-12 ***\n",
       "---\n",
       "Signif. codes:  0 '***' 0.001 '**' 0.01 '*' 0.05 '.' 0.1 ' ' 1\n",
       "\n",
       "Residual standard error: 769.5 on 703 degrees of freedom\n",
       "Multiple R-squared:  0.848,\tAdjusted R-squared:  0.8422 \n",
       "F-statistic: 145.3 on 27 and 703 DF,  p-value: < 2.2e-16\n"
      ]
     },
     "metadata": {},
     "output_type": "display_data"
    },
    {
     "data": {
      "text/html": [
       "<table>\n",
       "<thead><tr><th></th><th scope=col>season</th><th scope=col>yr</th><th scope=col>mnth</th><th scope=col>holiday</th><th scope=col>weekday</th><th scope=col>weathersit</th><th scope=col>temp</th><th scope=col>hum</th><th scope=col>windspeed</th></tr></thead>\n",
       "<tbody>\n",
       "\t<tr><th scope=row>season</th><td> 1.000000000 </td><td>-0.001844343 </td><td> 0.831440114 </td><td>-0.010536659 </td><td>-0.0030798813</td><td> 0.01921103  </td><td> 0.3343148564</td><td> 0.20544476  </td><td>-0.229046337 </td></tr>\n",
       "\t<tr><th scope=row>yr</th><td>-0.001844343 </td><td> 1.000000000 </td><td>-0.001792434 </td><td> 0.007954311 </td><td>-0.0054607652</td><td>-0.04872654  </td><td> 0.0476035719</td><td>-0.11065104  </td><td>-0.011817060 </td></tr>\n",
       "\t<tr><th scope=row>mnth</th><td> 0.831440114 </td><td>-0.001792434 </td><td> 1.000000000 </td><td> 0.019190895 </td><td> 0.0095093129</td><td> 0.04352810  </td><td> 0.2202053352</td><td> 0.22220369  </td><td>-0.207501752 </td></tr>\n",
       "\t<tr><th scope=row>holiday</th><td>-0.010536659 </td><td> 0.007954311 </td><td> 0.019190895 </td><td> 1.000000000 </td><td>-0.1019602689</td><td>-0.03462684  </td><td>-0.0285555350</td><td>-0.01593748  </td><td> 0.006291507 </td></tr>\n",
       "\t<tr><th scope=row>weekday</th><td>-0.003079881 </td><td>-0.005460765 </td><td> 0.009509313 </td><td>-0.101960269 </td><td> 1.0000000000</td><td> 0.03108747  </td><td>-0.0001699624</td><td>-0.05223210  </td><td> 0.014282124 </td></tr>\n",
       "\t<tr><th scope=row>weathersit</th><td> 0.019211028 </td><td>-0.048726541 </td><td> 0.043528098 </td><td>-0.034626841 </td><td> 0.0310874694</td><td> 1.00000000  </td><td>-0.1206022365</td><td> 0.59104460  </td><td> 0.039511059 </td></tr>\n",
       "\t<tr><th scope=row>temp</th><td> 0.334314856 </td><td> 0.047603572 </td><td> 0.220205335 </td><td>-0.028555535 </td><td>-0.0001699624</td><td>-0.12060224  </td><td> 1.0000000000</td><td> 0.12696294  </td><td>-0.157944120 </td></tr>\n",
       "\t<tr><th scope=row>hum</th><td> 0.205444765 </td><td>-0.110651045 </td><td> 0.222203691 </td><td>-0.015937479 </td><td>-0.0522321004</td><td> 0.59104460  </td><td> 0.1269629390</td><td> 1.00000000  </td><td>-0.248489099 </td></tr>\n",
       "\t<tr><th scope=row>windspeed</th><td>-0.229046337 </td><td>-0.011817060 </td><td>-0.207501752 </td><td> 0.006291507 </td><td> 0.0142821241</td><td> 0.03951106  </td><td>-0.1579441204</td><td>-0.24848910  </td><td> 1.000000000 </td></tr>\n",
       "</tbody>\n",
       "</table>\n"
      ],
      "text/latex": [
       "\\begin{tabular}{r|lllllllll}\n",
       "  & season & yr & mnth & holiday & weekday & weathersit & temp & hum & windspeed\\\\\n",
       "\\hline\n",
       "\tseason &  1.000000000  & -0.001844343  &  0.831440114  & -0.010536659  & -0.0030798813 &  0.01921103   &  0.3343148564 &  0.20544476   & -0.229046337 \\\\\n",
       "\tyr & -0.001844343  &  1.000000000  & -0.001792434  &  0.007954311  & -0.0054607652 & -0.04872654   &  0.0476035719 & -0.11065104   & -0.011817060 \\\\\n",
       "\tmnth &  0.831440114  & -0.001792434  &  1.000000000  &  0.019190895  &  0.0095093129 &  0.04352810   &  0.2202053352 &  0.22220369   & -0.207501752 \\\\\n",
       "\tholiday & -0.010536659  &  0.007954311  &  0.019190895  &  1.000000000  & -0.1019602689 & -0.03462684   & -0.0285555350 & -0.01593748   &  0.006291507 \\\\\n",
       "\tweekday & -0.003079881  & -0.005460765  &  0.009509313  & -0.101960269  &  1.0000000000 &  0.03108747   & -0.0001699624 & -0.05223210   &  0.014282124 \\\\\n",
       "\tweathersit &  0.019211028  & -0.048726541  &  0.043528098  & -0.034626841  &  0.0310874694 &  1.00000000   & -0.1206022365 &  0.59104460   &  0.039511059 \\\\\n",
       "\ttemp &  0.334314856  &  0.047603572  &  0.220205335  & -0.028555535  & -0.0001699624 & -0.12060224   &  1.0000000000 &  0.12696294   & -0.157944120 \\\\\n",
       "\thum &  0.205444765  & -0.110651045  &  0.222203691  & -0.015937479  & -0.0522321004 &  0.59104460   &  0.1269629390 &  1.00000000   & -0.248489099 \\\\\n",
       "\twindspeed & -0.229046337  & -0.011817060  & -0.207501752  &  0.006291507  &  0.0142821241 &  0.03951106   & -0.1579441204 & -0.24848910   &  1.000000000 \\\\\n",
       "\\end{tabular}\n"
      ],
      "text/markdown": [
       "1. 1\n",
       "2. -0.00184434256240938\n",
       "3. 0.831440114210426\n",
       "4. -0.0105366587359993\n",
       "5. -0.003079881339172\n",
       "6. 0.0192110280566705\n",
       "7. 0.334314856399094\n",
       "8. 0.205444764539741\n",
       "9. -0.229046337346845\n",
       "10. -0.00184434256240938\n",
       "11. 1\n",
       "12. -0.0017924338411958\n",
       "13. 0.0079543108030602\n",
       "14. -0.00546076518594669\n",
       "15. -0.0487265412002011\n",
       "16. 0.047603571916023\n",
       "17. -0.110651044717779\n",
       "18. -0.0118170599077814\n",
       "19. 0.831440114210426\n",
       "20. -0.0017924338411958\n",
       "21. 1\n",
       "22. 0.0191908952533954\n",
       "23. 0.00950931286035007\n",
       "24. 0.0435280983924588\n",
       "25. 0.220205335153373\n",
       "26. 0.222203690688982\n",
       "27. -0.207501751584642\n",
       "28. -0.0105366587359993\n",
       "29. 0.0079543108030602\n",
       "30. 0.0191908952533954\n",
       "31. 1\n",
       "32. -0.101960268860354\n",
       "33. -0.0346268413690005\n",
       "34. -0.0285555349810744\n",
       "35. -0.0159374785065226\n",
       "36. 0.00629150654378879\n",
       "37. -0.003079881339172\n",
       "38. -0.00546076518594669\n",
       "39. 0.00950931286035007\n",
       "40. -0.101960268860354\n",
       "41. 1\n",
       "42. 0.0310874694114411\n",
       "43. -0.000169962384803601\n",
       "44. -0.0522321004013784\n",
       "45. 0.0142821241420835\n",
       "46. 0.0192110280566705\n",
       "47. -0.0487265412002011\n",
       "48. 0.0435280983924588\n",
       "49. -0.0346268413690005\n",
       "50. 0.0310874694114411\n",
       "51. 1\n",
       "52. -0.120602236499715\n",
       "53. 0.591044599297273\n",
       "54. 0.0395110585934671\n",
       "55. 0.334314856399094\n",
       "56. 0.047603571916023\n",
       "57. 0.220205335153373\n",
       "58. -0.0285555349810744\n",
       "59. -0.000169962384803601\n",
       "60. -0.120602236499715\n",
       "61. 1\n",
       "62. 0.126962939027189\n",
       "63. -0.1579441204121\n",
       "64. 0.205444764539741\n",
       "65. -0.110651044717779\n",
       "66. 0.222203690688982\n",
       "67. -0.0159374785065226\n",
       "68. -0.0522321004013784\n",
       "69. 0.591044599297273\n",
       "70. 0.126962939027189\n",
       "71. 1\n",
       "72. -0.248489098643714\n",
       "73. -0.229046337346845\n",
       "74. -0.0118170599077814\n",
       "75. -0.207501751584642\n",
       "76. 0.00629150654378879\n",
       "77. 0.0142821241420835\n",
       "78. 0.0395110585934671\n",
       "79. -0.1579441204121\n",
       "80. -0.248489098643714\n",
       "81. 1\n",
       "\n",
       "\n"
      ],
      "text/plain": [
       "           season       yr           mnth         holiday      weekday      \n",
       "season      1.000000000 -0.001844343  0.831440114 -0.010536659 -0.0030798813\n",
       "yr         -0.001844343  1.000000000 -0.001792434  0.007954311 -0.0054607652\n",
       "mnth        0.831440114 -0.001792434  1.000000000  0.019190895  0.0095093129\n",
       "holiday    -0.010536659  0.007954311  0.019190895  1.000000000 -0.1019602689\n",
       "weekday    -0.003079881 -0.005460765  0.009509313 -0.101960269  1.0000000000\n",
       "weathersit  0.019211028 -0.048726541  0.043528098 -0.034626841  0.0310874694\n",
       "temp        0.334314856  0.047603572  0.220205335 -0.028555535 -0.0001699624\n",
       "hum         0.205444765 -0.110651045  0.222203691 -0.015937479 -0.0522321004\n",
       "windspeed  -0.229046337 -0.011817060 -0.207501752  0.006291507  0.0142821241\n",
       "           weathersit  temp          hum         windspeed   \n",
       "season      0.01921103  0.3343148564  0.20544476 -0.229046337\n",
       "yr         -0.04872654  0.0476035719 -0.11065104 -0.011817060\n",
       "mnth        0.04352810  0.2202053352  0.22220369 -0.207501752\n",
       "holiday    -0.03462684 -0.0285555350 -0.01593748  0.006291507\n",
       "weekday     0.03108747 -0.0001699624 -0.05223210  0.014282124\n",
       "weathersit  1.00000000 -0.1206022365  0.59104460  0.039511059\n",
       "temp       -0.12060224  1.0000000000  0.12696294 -0.157944120\n",
       "hum         0.59104460  0.1269629390  1.00000000 -0.248489099\n",
       "windspeed   0.03951106 -0.1579441204 -0.24848910  1.000000000"
      ]
     },
     "metadata": {},
     "output_type": "display_data"
    }
   ],
   "source": [
    "set.seed(1)\n",
    "\n",
    "#Model with all variables (dropped workingday, atemp at alpha = 0.05)\n",
    "r3 <- lm(cnt ~ factor(season)+ yr + factor(mnth) + holiday + factor(weekday) +\n",
    "           factor(weathersit)+ temp + hum + windspeed)\n",
    "summary(r3)"
   ]
  },
  {
   "cell_type": "markdown",
   "metadata": {},
   "source": [
    "Since all predictors are now significant we want to check correlation such that our beta's should be interpretable"
   ]
  },
  {
   "cell_type": "code",
   "execution_count": 12,
   "metadata": {
    "collapsed": false
   },
   "outputs": [
    {
     "data": {
      "text/html": [
       "<table>\n",
       "<thead><tr><th></th><th scope=col>season</th><th scope=col>yr</th><th scope=col>mnth</th><th scope=col>holiday</th><th scope=col>weekday</th><th scope=col>weathersit</th><th scope=col>temp</th><th scope=col>hum</th><th scope=col>windspeed</th></tr></thead>\n",
       "<tbody>\n",
       "\t<tr><th scope=row>season</th><td> 1.000000000 </td><td>-0.001844343 </td><td> 0.831440114 </td><td>-0.010536659 </td><td>-0.0030798813</td><td> 0.01921103  </td><td> 0.3343148564</td><td> 0.20544476  </td><td>-0.229046337 </td></tr>\n",
       "\t<tr><th scope=row>yr</th><td>-0.001844343 </td><td> 1.000000000 </td><td>-0.001792434 </td><td> 0.007954311 </td><td>-0.0054607652</td><td>-0.04872654  </td><td> 0.0476035719</td><td>-0.11065104  </td><td>-0.011817060 </td></tr>\n",
       "\t<tr><th scope=row>mnth</th><td> 0.831440114 </td><td>-0.001792434 </td><td> 1.000000000 </td><td> 0.019190895 </td><td> 0.0095093129</td><td> 0.04352810  </td><td> 0.2202053352</td><td> 0.22220369  </td><td>-0.207501752 </td></tr>\n",
       "\t<tr><th scope=row>holiday</th><td>-0.010536659 </td><td> 0.007954311 </td><td> 0.019190895 </td><td> 1.000000000 </td><td>-0.1019602689</td><td>-0.03462684  </td><td>-0.0285555350</td><td>-0.01593748  </td><td> 0.006291507 </td></tr>\n",
       "\t<tr><th scope=row>weekday</th><td>-0.003079881 </td><td>-0.005460765 </td><td> 0.009509313 </td><td>-0.101960269 </td><td> 1.0000000000</td><td> 0.03108747  </td><td>-0.0001699624</td><td>-0.05223210  </td><td> 0.014282124 </td></tr>\n",
       "\t<tr><th scope=row>weathersit</th><td> 0.019211028 </td><td>-0.048726541 </td><td> 0.043528098 </td><td>-0.034626841 </td><td> 0.0310874694</td><td> 1.00000000  </td><td>-0.1206022365</td><td> 0.59104460  </td><td> 0.039511059 </td></tr>\n",
       "\t<tr><th scope=row>temp</th><td> 0.334314856 </td><td> 0.047603572 </td><td> 0.220205335 </td><td>-0.028555535 </td><td>-0.0001699624</td><td>-0.12060224  </td><td> 1.0000000000</td><td> 0.12696294  </td><td>-0.157944120 </td></tr>\n",
       "\t<tr><th scope=row>hum</th><td> 0.205444765 </td><td>-0.110651045 </td><td> 0.222203691 </td><td>-0.015937479 </td><td>-0.0522321004</td><td> 0.59104460  </td><td> 0.1269629390</td><td> 1.00000000  </td><td>-0.248489099 </td></tr>\n",
       "\t<tr><th scope=row>windspeed</th><td>-0.229046337 </td><td>-0.011817060 </td><td>-0.207501752 </td><td> 0.006291507 </td><td> 0.0142821241</td><td> 0.03951106  </td><td>-0.1579441204</td><td>-0.24848910  </td><td> 1.000000000 </td></tr>\n",
       "</tbody>\n",
       "</table>\n"
      ],
      "text/latex": [
       "\\begin{tabular}{r|lllllllll}\n",
       "  & season & yr & mnth & holiday & weekday & weathersit & temp & hum & windspeed\\\\\n",
       "\\hline\n",
       "\tseason &  1.000000000  & -0.001844343  &  0.831440114  & -0.010536659  & -0.0030798813 &  0.01921103   &  0.3343148564 &  0.20544476   & -0.229046337 \\\\\n",
       "\tyr & -0.001844343  &  1.000000000  & -0.001792434  &  0.007954311  & -0.0054607652 & -0.04872654   &  0.0476035719 & -0.11065104   & -0.011817060 \\\\\n",
       "\tmnth &  0.831440114  & -0.001792434  &  1.000000000  &  0.019190895  &  0.0095093129 &  0.04352810   &  0.2202053352 &  0.22220369   & -0.207501752 \\\\\n",
       "\tholiday & -0.010536659  &  0.007954311  &  0.019190895  &  1.000000000  & -0.1019602689 & -0.03462684   & -0.0285555350 & -0.01593748   &  0.006291507 \\\\\n",
       "\tweekday & -0.003079881  & -0.005460765  &  0.009509313  & -0.101960269  &  1.0000000000 &  0.03108747   & -0.0001699624 & -0.05223210   &  0.014282124 \\\\\n",
       "\tweathersit &  0.019211028  & -0.048726541  &  0.043528098  & -0.034626841  &  0.0310874694 &  1.00000000   & -0.1206022365 &  0.59104460   &  0.039511059 \\\\\n",
       "\ttemp &  0.334314856  &  0.047603572  &  0.220205335  & -0.028555535  & -0.0001699624 & -0.12060224   &  1.0000000000 &  0.12696294   & -0.157944120 \\\\\n",
       "\thum &  0.205444765  & -0.110651045  &  0.222203691  & -0.015937479  & -0.0522321004 &  0.59104460   &  0.1269629390 &  1.00000000   & -0.248489099 \\\\\n",
       "\twindspeed & -0.229046337  & -0.011817060  & -0.207501752  &  0.006291507  &  0.0142821241 &  0.03951106   & -0.1579441204 & -0.24848910   &  1.000000000 \\\\\n",
       "\\end{tabular}\n"
      ],
      "text/markdown": [
       "1. 1\n",
       "2. -0.00184434256240938\n",
       "3. 0.831440114210426\n",
       "4. -0.0105366587359993\n",
       "5. -0.003079881339172\n",
       "6. 0.0192110280566705\n",
       "7. 0.334314856399094\n",
       "8. 0.205444764539741\n",
       "9. -0.229046337346845\n",
       "10. -0.00184434256240938\n",
       "11. 1\n",
       "12. -0.0017924338411958\n",
       "13. 0.0079543108030602\n",
       "14. -0.00546076518594669\n",
       "15. -0.0487265412002011\n",
       "16. 0.047603571916023\n",
       "17. -0.110651044717779\n",
       "18. -0.0118170599077814\n",
       "19. 0.831440114210426\n",
       "20. -0.0017924338411958\n",
       "21. 1\n",
       "22. 0.0191908952533954\n",
       "23. 0.00950931286035007\n",
       "24. 0.0435280983924588\n",
       "25. 0.220205335153373\n",
       "26. 0.222203690688982\n",
       "27. -0.207501751584642\n",
       "28. -0.0105366587359993\n",
       "29. 0.0079543108030602\n",
       "30. 0.0191908952533954\n",
       "31. 1\n",
       "32. -0.101960268860354\n",
       "33. -0.0346268413690005\n",
       "34. -0.0285555349810744\n",
       "35. -0.0159374785065226\n",
       "36. 0.00629150654378879\n",
       "37. -0.003079881339172\n",
       "38. -0.00546076518594669\n",
       "39. 0.00950931286035007\n",
       "40. -0.101960268860354\n",
       "41. 1\n",
       "42. 0.0310874694114411\n",
       "43. -0.000169962384803601\n",
       "44. -0.0522321004013784\n",
       "45. 0.0142821241420835\n",
       "46. 0.0192110280566705\n",
       "47. -0.0487265412002011\n",
       "48. 0.0435280983924588\n",
       "49. -0.0346268413690005\n",
       "50. 0.0310874694114411\n",
       "51. 1\n",
       "52. -0.120602236499715\n",
       "53. 0.591044599297273\n",
       "54. 0.0395110585934671\n",
       "55. 0.334314856399094\n",
       "56. 0.047603571916023\n",
       "57. 0.220205335153373\n",
       "58. -0.0285555349810744\n",
       "59. -0.000169962384803601\n",
       "60. -0.120602236499715\n",
       "61. 1\n",
       "62. 0.126962939027189\n",
       "63. -0.1579441204121\n",
       "64. 0.205444764539741\n",
       "65. -0.110651044717779\n",
       "66. 0.222203690688982\n",
       "67. -0.0159374785065226\n",
       "68. -0.0522321004013784\n",
       "69. 0.591044599297273\n",
       "70. 0.126962939027189\n",
       "71. 1\n",
       "72. -0.248489098643714\n",
       "73. -0.229046337346845\n",
       "74. -0.0118170599077814\n",
       "75. -0.207501751584642\n",
       "76. 0.00629150654378879\n",
       "77. 0.0142821241420835\n",
       "78. 0.0395110585934671\n",
       "79. -0.1579441204121\n",
       "80. -0.248489098643714\n",
       "81. 1\n",
       "\n",
       "\n"
      ],
      "text/plain": [
       "           season       yr           mnth         holiday      weekday      \n",
       "season      1.000000000 -0.001844343  0.831440114 -0.010536659 -0.0030798813\n",
       "yr         -0.001844343  1.000000000 -0.001792434  0.007954311 -0.0054607652\n",
       "mnth        0.831440114 -0.001792434  1.000000000  0.019190895  0.0095093129\n",
       "holiday    -0.010536659  0.007954311  0.019190895  1.000000000 -0.1019602689\n",
       "weekday    -0.003079881 -0.005460765  0.009509313 -0.101960269  1.0000000000\n",
       "weathersit  0.019211028 -0.048726541  0.043528098 -0.034626841  0.0310874694\n",
       "temp        0.334314856  0.047603572  0.220205335 -0.028555535 -0.0001699624\n",
       "hum         0.205444765 -0.110651045  0.222203691 -0.015937479 -0.0522321004\n",
       "windspeed  -0.229046337 -0.011817060 -0.207501752  0.006291507  0.0142821241\n",
       "           weathersit  temp          hum         windspeed   \n",
       "season      0.01921103  0.3343148564  0.20544476 -0.229046337\n",
       "yr         -0.04872654  0.0476035719 -0.11065104 -0.011817060\n",
       "mnth        0.04352810  0.2202053352  0.22220369 -0.207501752\n",
       "holiday    -0.03462684 -0.0285555350 -0.01593748  0.006291507\n",
       "weekday     0.03108747 -0.0001699624 -0.05223210  0.014282124\n",
       "weathersit  1.00000000 -0.1206022365  0.59104460  0.039511059\n",
       "temp       -0.12060224  1.0000000000  0.12696294 -0.157944120\n",
       "hum         0.59104460  0.1269629390  1.00000000 -0.248489099\n",
       "windspeed   0.03951106 -0.1579441204 -0.24848910  1.000000000"
      ]
     },
     "metadata": {},
     "output_type": "display_data"
    }
   ],
   "source": [
    "cor(bikeshare[,c(\"season\",\"yr\",\"mnth\",\"holiday\",\"weekday\",\"weathersit\",\"temp\",\"hum\",\"windspeed\")])"
   ]
  },
  {
   "cell_type": "markdown",
   "metadata": {},
   "source": [
    ">0.7 (season,holiday)\n",
    "\n",
    "Next possible drop of highest p-value is that of holiday (0.000845) i.e.choosing between lowest p-value of season (0.000104) \n",
    "and that of holiday.Even though significant at alpha=0.05, we check our model by dropping it from our model to make \n",
    "beta's interpretable by removing collinearity. "
   ]
  },
  {
   "cell_type": "code",
   "execution_count": 9,
   "metadata": {
    "collapsed": false
   },
   "outputs": [
    {
     "data": {
      "text/plain": [
       "\n",
       "Call:\n",
       "lm(formula = cnt ~ factor(season) + yr + factor(mnth) + factor(weekday) + \n",
       "    factor(weathersit) + temp + hum + windspeed)\n",
       "\n",
       "Residuals:\n",
       "    Min      1Q  Median      3Q     Max \n",
       "-3971.0  -352.1    77.5   459.5  2911.7 \n",
       "\n",
       "Coefficients:\n",
       "                    Estimate Std. Error t value Pr(>|t|)    \n",
       "(Intercept)          1538.52     236.83   6.496 1.56e-10 ***\n",
       "factor(season)2       896.12     180.80   4.956 9.01e-07 ***\n",
       "factor(season)3       849.74     214.68   3.958 8.32e-05 ***\n",
       "factor(season)4      1630.17     181.70   8.972  < 2e-16 ***\n",
       "yr                   2019.08      58.65  34.428  < 2e-16 ***\n",
       "factor(mnth)2         148.98     144.74   1.029 0.303712    \n",
       "factor(mnth)3         581.86     166.31   3.499 0.000497 ***\n",
       "factor(mnth)4         476.58     249.34   1.911 0.056359 .  \n",
       "factor(mnth)5         752.54     269.34   2.794 0.005347 ** \n",
       "factor(mnth)6         544.40     283.36   1.921 0.055101 .  \n",
       "factor(mnth)7          41.65     315.51   0.132 0.895018    \n",
       "factor(mnth)8         453.31     303.33   1.494 0.135509    \n",
       "factor(mnth)9         992.23     266.60   3.722 0.000214 ***\n",
       "factor(mnth)10        496.55     243.28   2.041 0.041612 *  \n",
       "factor(mnth)11       -165.57     231.92  -0.714 0.475515    \n",
       "factor(mnth)12       -103.86     183.46  -0.566 0.571499    \n",
       "factor(weekday)1      129.03     107.24   1.203 0.229328    \n",
       "factor(weekday)2      303.44     107.93   2.811 0.005070 ** \n",
       "factor(weekday)3      371.31     108.23   3.431 0.000637 ***\n",
       "factor(weekday)4      374.50     108.29   3.458 0.000577 ***\n",
       "factor(weekday)5      417.66     107.98   3.868 0.000120 ***\n",
       "factor(weekday)6      438.43     107.36   4.084 4.94e-05 ***\n",
       "factor(weathersit)2  -462.51      77.64  -5.957 4.05e-09 ***\n",
       "factor(weathersit)3 -1966.35     198.04  -9.929  < 2e-16 ***\n",
       "temp                 4406.81     414.12  10.642  < 2e-16 ***\n",
       "hum                 -1499.33     294.27  -5.095 4.48e-07 ***\n",
       "windspeed           -2923.90     409.12  -7.147 2.22e-12 ***\n",
       "---\n",
       "Signif. codes:  0 '***' 0.001 '**' 0.01 '*' 0.05 '.' 0.1 ' ' 1\n",
       "\n",
       "Residual standard error: 775.1 on 704 degrees of freedom\n",
       "Multiple R-squared:  0.8456,\tAdjusted R-squared:  0.8399 \n",
       "F-statistic: 148.3 on 26 and 704 DF,  p-value: < 2.2e-16\n"
      ]
     },
     "metadata": {},
     "output_type": "display_data"
    }
   ],
   "source": [
    "set.seed(1)\n",
    "\n",
    "#Model with all variables (dropped workingday, atemp, holiday at alpha = 0.05)\n",
    "r4 <- lm(cnt ~ factor(season)+ yr + factor(mnth) + factor(weekday) +\n",
    "           factor(weathersit)+ temp + hum + windspeed)\n",
    "summary(r4)"
   ]
  },
  {
   "cell_type": "code",
   "execution_count": 10,
   "metadata": {
    "collapsed": false
   },
   "outputs": [
    {
     "name": "stderr",
     "output_type": "stream",
     "text": [
      "The following objects are masked from bikeshare (pos = 3):\n",
      "\n",
      "    atemp, casual, cnt, dteday, holiday, hum, instant, mnth,\n",
      "    registered, season, temp, weathersit, weekday, windspeed,\n",
      "    workingday, yr\n",
      "\n",
      "The following objects are masked from bikeshare (pos = 4):\n",
      "\n",
      "    atemp, casual, cnt, dteday, holiday, hum, instant, mnth,\n",
      "    registered, season, temp, weathersit, weekday, windspeed,\n",
      "    workingday, yr\n",
      "\n"
     ]
    },
    {
     "data": {
      "text/plain": [
       "\n",
       "Call:\n",
       "lm(formula = cnt ~ factor(mnth) + yr + factor(weekday) + factor(weathersit) + \n",
       "    temp + hum + windspeed)\n",
       "\n",
       "Residuals:\n",
       "    Min      1Q  Median      3Q     Max \n",
       "-3954.1  -394.9    68.6   495.7  2611.9 \n",
       "\n",
       "Coefficients:\n",
       "                    Estimate Std. Error t value Pr(>|t|)    \n",
       "(Intercept)          1557.29     251.09   6.202 9.48e-10 ***\n",
       "factor(mnth)2         145.70     153.55   0.949  0.34303    \n",
       "factor(mnth)3         885.57     162.22   5.459 6.63e-08 ***\n",
       "factor(mnth)4        1352.89     180.18   7.509 1.81e-13 ***\n",
       "factor(mnth)5        1587.40     210.83   7.529 1.56e-13 ***\n",
       "factor(mnth)6        1360.24     243.85   5.578 3.46e-08 ***\n",
       "factor(mnth)7         809.32     267.56   3.025  0.00258 ** \n",
       "factor(mnth)8        1226.47     249.23   4.921 1.07e-06 ***\n",
       "factor(mnth)9        1978.95     219.09   9.032  < 2e-16 ***\n",
       "factor(mnth)10       2076.94     181.85  11.421  < 2e-16 ***\n",
       "factor(mnth)11       1438.23     159.49   9.018  < 2e-16 ***\n",
       "factor(mnth)12        921.44     153.14   6.017 2.85e-09 ***\n",
       "yr                   2017.44      62.22  32.423  < 2e-16 ***\n",
       "factor(weekday)1      130.23     113.79   1.144  0.25283    \n",
       "factor(weekday)2      310.34     114.53   2.710  0.00690 ** \n",
       "factor(weekday)3      369.97     114.82   3.222  0.00133 ** \n",
       "factor(weekday)4      376.14     114.87   3.274  0.00111 ** \n",
       "factor(weekday)5      404.70     114.59   3.532  0.00044 ***\n",
       "factor(weekday)6      428.94     113.91   3.766  0.00018 ***\n",
       "factor(weathersit)2  -452.48      82.38  -5.492 5.54e-08 ***\n",
       "factor(weathersit)3 -1963.37     209.99  -9.350  < 2e-16 ***\n",
       "temp                 4539.62     434.39  10.451  < 2e-16 ***\n",
       "hum                 -1455.10     311.75  -4.668 3.65e-06 ***\n",
       "windspeed           -3298.98     432.09  -7.635 7.35e-14 ***\n",
       "---\n",
       "Signif. codes:  0 '***' 0.001 '**' 0.01 '*' 0.05 '.' 0.1 ' ' 1\n",
       "\n",
       "Residual standard error: 822.6 on 707 degrees of freedom\n",
       "Multiple R-squared:  0.8254,\tAdjusted R-squared:  0.8197 \n",
       "F-statistic: 145.3 on 23 and 707 DF,  p-value: < 2.2e-16\n"
      ]
     },
     "metadata": {},
     "output_type": "display_data"
    }
   ],
   "source": [
    "set.seed(1)\n",
    "\n",
    "#Model with all variables (dropped workingday, atemp, holiday at alpha = 0.05)\n",
    "r5 <- lm(cnt ~ factor(mnth)+ yr + factor(weekday) +\n",
    "           factor(weathersit)+ temp + hum + windspeed)\n",
    "summary(r5)"
   ]
  },
  {
   "cell_type": "code",
   "execution_count": 11,
   "metadata": {
    "collapsed": false
   },
   "outputs": [
    {
     "data": {
      "text/plain": [
       "\n",
       "Call:\n",
       "lm(formula = cnt ~ factor(season) + yr + holiday + factor(weathersit) + \n",
       "    workingday + temp + windspeed + hum)\n",
       "\n",
       "Residuals:\n",
       "    Min      1Q  Median      3Q     Max \n",
       "-3677.3  -378.9    67.4   475.7  3347.1 \n",
       "\n",
       "Coefficients:\n",
       "                    Estimate Std. Error t value Pr(>|t|)    \n",
       "(Intercept)          1586.95     226.75   6.999 5.93e-12 ***\n",
       "factor(season)2      1137.94     113.55  10.021  < 2e-16 ***\n",
       "factor(season)3       844.10     149.97   5.628 2.61e-08 ***\n",
       "factor(season)4      1545.59      96.67  15.988  < 2e-16 ***\n",
       "yr                   2013.71      61.75  32.610  < 2e-16 ***\n",
       "holiday              -624.01     188.44  -3.311 0.000974 ***\n",
       "factor(weathersit)2  -426.72      81.24  -5.253 1.98e-07 ***\n",
       "factor(weathersit)3 -1916.95     207.31  -9.247  < 2e-16 ***\n",
       "workingday            118.19      67.92   1.740 0.082232 .  \n",
       "temp                 5108.07     306.98  16.640  < 2e-16 ***\n",
       "windspeed           -2795.28     428.06  -6.530 1.24e-10 ***\n",
       "hum                 -1325.64     295.07  -4.493 8.19e-06 ***\n",
       "---\n",
       "Signif. codes:  0 '***' 0.001 '**' 0.01 '*' 0.05 '.' 0.1 ' ' 1\n",
       "\n",
       "Residual standard error: 822.2 on 719 degrees of freedom\n",
       "Multiple R-squared:  0.8226,\tAdjusted R-squared:  0.8199 \n",
       "F-statistic: 303.1 on 11 and 719 DF,  p-value: < 2.2e-16\n"
      ]
     },
     "metadata": {},
     "output_type": "display_data"
    }
   ],
   "source": [
    "set.seed(1)\n",
    "\n",
    "#Final Model with 8 variables\n",
    "rfinal <- lm(cnt~factor(season)+yr+holiday+factor(weathersit)+ workingday+temp+ windspeed + hum)\n",
    "summary(rfinal)"
   ]
  },
  {
   "cell_type": "markdown",
   "metadata": {},
   "source": [
    "### Stepwise Regression"
   ]
  },
  {
   "cell_type": "code",
   "execution_count": 21,
   "metadata": {
    "collapsed": false
   },
   "outputs": [
    {
     "name": "stdout",
     "output_type": "stream",
     "text": [
      "Start:  AIC=9744\n",
      "cnt ~ factor(season) + yr + factor(mnth) + holiday + factor(weekday) + \n",
      "    workingday + factor(weathersit) + temp + atemp + hum + windspeed\n",
      "\n",
      "\n",
      "Step:  AIC=9744\n",
      "cnt ~ factor(season) + yr + factor(mnth) + holiday + factor(weekday) + \n",
      "    factor(weathersit) + temp + atemp + hum + windspeed\n",
      "\n",
      "                     Df Sum of Sq        RSS     AIC\n",
      "- atemp               1    883090  416284778  9743.6\n",
      "<none>                             415401688  9744.0\n",
      "- temp                1   2467375  417869064  9746.3\n",
      "- holiday             1   6325545  421727233  9753.0\n",
      "- factor(weekday)     6  15346257  430747945  9758.5\n",
      "- hum                 1  16312287  431713975  9770.2\n",
      "- windspeed           1  27446438  442848126  9788.8\n",
      "- factor(mnth)       11  57051189  472452877  9816.1\n",
      "- factor(season)      3  51711125  467112813  9823.8\n",
      "- factor(weathersit)  2  62999538  478401226  9843.2\n",
      "- yr                  1 712147968 1127549656 10471.9\n",
      "\n",
      "Step:  AIC=9743.55\n",
      "cnt ~ factor(season) + yr + factor(mnth) + holiday + factor(weekday) + \n",
      "    factor(weathersit) + temp + hum + windspeed\n",
      "\n",
      "                     Df Sum of Sq        RSS     AIC\n",
      "<none>                             416284778  9743.6\n",
      "+ atemp               1    883090  415401688  9744.0\n",
      "- holiday             1   6653951  422938729  9753.1\n",
      "- factor(weekday)     6  15002785  431287563  9757.4\n",
      "- hum                 1  15984413  432269190  9769.1\n",
      "- windspeed           1  30717842  447002619  9793.6\n",
      "- factor(mnth)       11  56630559  472915337  9814.8\n",
      "- factor(season)      3  52094569  468379347  9823.7\n",
      "- factor(weathersit)  2  64280982  480565760  9844.5\n",
      "- temp                1  70299831  486584608  9855.6\n",
      "- yr                  1 711362396 1127647174 10470.0\n"
     ]
    },
    {
     "data": {
      "text/plain": [
       "\n",
       "Call:\n",
       "lm(formula = cnt ~ factor(season) + yr + factor(mnth) + holiday + \n",
       "    factor(weekday) + factor(weathersit) + temp + hum + windspeed)\n",
       "\n",
       "Residuals:\n",
       "    Min      1Q  Median      3Q     Max \n",
       "-3960.9  -350.9    74.1   456.0  2919.9 \n",
       "\n",
       "Coefficients:\n",
       "                     Estimate Std. Error t value Pr(>|t|)    \n",
       "(Intercept)          1543.552    235.129   6.565 1.01e-10 ***\n",
       "factor(season)2       889.302    179.516   4.954 9.12e-07 ***\n",
       "factor(season)3       832.236    213.204   3.903 0.000104 ***\n",
       "factor(season)4      1578.947    181.040   8.722  < 2e-16 ***\n",
       "yr                   2018.063     58.225  34.660  < 2e-16 ***\n",
       "factor(mnth)2         136.855    143.747   0.952 0.341396    \n",
       "factor(mnth)3         545.132    165.480   3.294 0.001036 ** \n",
       "factor(mnth)4         456.494    247.615   1.844 0.065667 .  \n",
       "factor(mnth)5         723.520    267.541   2.704 0.007010 ** \n",
       "factor(mnth)6         490.552    281.776   1.741 0.082133 .  \n",
       "factor(mnth)7           8.404    313.395   0.027 0.978613    \n",
       "factor(mnth)8         404.912    301.494   1.343 0.179700    \n",
       "factor(mnth)9         983.948    264.698   3.717 0.000217 ***\n",
       "factor(mnth)10        520.937    241.636   2.156 0.031432 *  \n",
       "factor(mnth)11       -111.362    230.816  -0.482 0.629621    \n",
       "factor(mnth)12        -84.389    182.229  -0.463 0.643439    \n",
       "holiday              -603.605    180.066  -3.352 0.000845 ***\n",
       "factor(weekday)1      214.877    109.508   1.962 0.050133 .  \n",
       "factor(weekday)2      309.132    107.171   2.884 0.004041 ** \n",
       "factor(weekday)3      377.407    107.467   3.512 0.000473 ***\n",
       "factor(weekday)4      385.206    107.562   3.581 0.000366 ***\n",
       "factor(weekday)5      428.604    107.258   3.996 7.12e-05 ***\n",
       "factor(weekday)6      438.699    106.590   4.116 4.32e-05 ***\n",
       "factor(weathersit)2  -465.202     77.083  -6.035 2.57e-09 ***\n",
       "factor(weathersit)3 -1981.357    196.670 -10.075  < 2e-16 ***\n",
       "temp                 4487.305    411.838  10.896  < 2e-16 ***\n",
       "hum                 -1518.178    292.208  -5.196 2.68e-07 ***\n",
       "windspeed           -2925.438    406.175  -7.202 1.53e-12 ***\n",
       "---\n",
       "Signif. codes:  0 '***' 0.001 '**' 0.01 '*' 0.05 '.' 0.1 ' ' 1\n",
       "\n",
       "Residual standard error: 769.5 on 703 degrees of freedom\n",
       "Multiple R-squared:  0.848,\tAdjusted R-squared:  0.8422 \n",
       "F-statistic: 145.3 on 27 and 703 DF,  p-value: < 2.2e-16\n"
      ]
     },
     "metadata": {},
     "output_type": "display_data"
    }
   ],
   "source": [
    "set.seed(1)\n",
    "\n",
    "s1 <- step(lm(cnt~factor(season)+yr+factor(mnth)+holiday+factor(weekday)+workingday+factor(weathersit)+temp+atemp+hum+windspeed),\n",
    "           direction=\"both\")\n",
    "summary(s1)"
   ]
  },
  {
   "cell_type": "code",
   "execution_count": 22,
   "metadata": {
    "collapsed": false
   },
   "outputs": [
    {
     "name": "stdout",
     "output_type": "stream",
     "text": [
      "Start:  AIC=9744\n",
      "cnt ~ factor(season) + yr + factor(mnth) + holiday + factor(weekday) + \n",
      "    workingday + factor(weathersit) + temp + atemp + hum + windspeed\n",
      "\n"
     ]
    },
    {
     "data": {
      "text/plain": [
       "\n",
       "Call:\n",
       "lm(formula = cnt ~ factor(season) + yr + factor(mnth) + holiday + \n",
       "    factor(weekday) + workingday + factor(weathersit) + temp + \n",
       "    atemp + hum + windspeed)\n",
       "\n",
       "Residuals:\n",
       "    Min      1Q  Median      3Q     Max \n",
       "-3944.7  -348.2    63.8   457.4  2912.7 \n",
       "\n",
       "Coefficients: (1 not defined because of singularities)\n",
       "                    Estimate Std. Error t value Pr(>|t|)    \n",
       "(Intercept)          1485.84     239.75   6.198 9.77e-10 ***\n",
       "factor(season)2       884.71     179.49   4.929 1.03e-06 ***\n",
       "factor(season)3       832.70     213.13   3.907 0.000102 ***\n",
       "factor(season)4      1575.35     181.00   8.704  < 2e-16 ***\n",
       "yr                   2019.74      58.22  34.691  < 2e-16 ***\n",
       "factor(mnth)2         131.03     143.78   0.911 0.362443    \n",
       "factor(mnth)3         542.83     165.43   3.281 0.001085 ** \n",
       "factor(mnth)4         451.17     247.57   1.822 0.068820 .  \n",
       "factor(mnth)5         735.51     267.63   2.748 0.006145 ** \n",
       "factor(mnth)6         515.40     282.41   1.825 0.068423 .  \n",
       "factor(mnth)7          30.80     313.82   0.098 0.921854    \n",
       "factor(mnth)8         444.95     303.17   1.468 0.142639    \n",
       "factor(mnth)9        1004.17     265.12   3.788 0.000165 ***\n",
       "factor(mnth)10        519.67     241.55   2.151 0.031787 *  \n",
       "factor(mnth)11       -116.69     230.78  -0.506 0.613257    \n",
       "factor(mnth)12        -89.59     182.21  -0.492 0.623098    \n",
       "holiday              -589.70     180.36  -3.270 0.001130 ** \n",
       "factor(weekday)1      212.05     109.49   1.937 0.053187 .  \n",
       "factor(weekday)2      309.53     107.13   2.889 0.003982 ** \n",
       "factor(weekday)3      381.36     107.48   3.548 0.000414 ***\n",
       "factor(weekday)4      386.34     107.53   3.593 0.000350 ***\n",
       "factor(weekday)5      436.98     107.44   4.067 5.30e-05 ***\n",
       "factor(weekday)6      440.46     106.56   4.133 4.01e-05 ***\n",
       "workingday                NA         NA      NA       NA    \n",
       "factor(weathersit)2  -462.54      77.09  -6.000 3.16e-09 ***\n",
       "factor(weathersit)3 -1965.09     197.05  -9.972  < 2e-16 ***\n",
       "temp                 2855.01    1398.16   2.042 0.041526 *  \n",
       "atemp                1786.16    1462.12   1.222 0.222261    \n",
       "hum                 -1535.47     292.45  -5.250 2.01e-07 ***\n",
       "windspeed           -2823.30     414.55  -6.810 2.09e-11 ***\n",
       "---\n",
       "Signif. codes:  0 '***' 0.001 '**' 0.01 '*' 0.05 '.' 0.1 ' ' 1\n",
       "\n",
       "Residual standard error: 769.2 on 702 degrees of freedom\n",
       "Multiple R-squared:  0.8484,\tAdjusted R-squared:  0.8423 \n",
       "F-statistic: 140.3 on 28 and 702 DF,  p-value: < 2.2e-16\n"
      ]
     },
     "metadata": {},
     "output_type": "display_data"
    }
   ],
   "source": [
    "set.seed(1)\n",
    "\n",
    "s2 <- step(lm(cnt~factor(season)+yr+factor(mnth)+holiday+factor(weekday)+workingday+factor(weathersit)+temp+atemp+hum+windspeed),\n",
    "           direction=\"forward\")\n",
    "summary(s2)"
   ]
  },
  {
   "cell_type": "code",
   "execution_count": 23,
   "metadata": {
    "collapsed": false
   },
   "outputs": [
    {
     "name": "stdout",
     "output_type": "stream",
     "text": [
      "Start:  AIC=9744\n",
      "cnt ~ factor(season) + yr + factor(mnth) + holiday + factor(weekday) + \n",
      "    workingday + factor(weathersit) + temp + atemp + hum + windspeed\n",
      "\n",
      "\n",
      "Step:  AIC=9744\n",
      "cnt ~ factor(season) + yr + factor(mnth) + holiday + factor(weekday) + \n",
      "    factor(weathersit) + temp + atemp + hum + windspeed\n",
      "\n",
      "                     Df Sum of Sq        RSS     AIC\n",
      "- atemp               1    883090  416284778  9743.6\n",
      "<none>                             415401688  9744.0\n",
      "- temp                1   2467375  417869064  9746.3\n",
      "- holiday             1   6325545  421727233  9753.0\n",
      "- factor(weekday)     6  15346257  430747945  9758.5\n",
      "- hum                 1  16312287  431713975  9770.2\n",
      "- windspeed           1  27446438  442848126  9788.8\n",
      "- factor(mnth)       11  57051189  472452877  9816.1\n",
      "- factor(season)      3  51711125  467112813  9823.8\n",
      "- factor(weathersit)  2  62999538  478401226  9843.2\n",
      "- yr                  1 712147968 1127549656 10471.9\n",
      "\n",
      "Step:  AIC=9743.55\n",
      "cnt ~ factor(season) + yr + factor(mnth) + holiday + factor(weekday) + \n",
      "    factor(weathersit) + temp + hum + windspeed\n",
      "\n",
      "                     Df Sum of Sq        RSS     AIC\n",
      "<none>                             416284778  9743.6\n",
      "- holiday             1   6653951  422938729  9753.1\n",
      "- factor(weekday)     6  15002785  431287563  9757.4\n",
      "- hum                 1  15984413  432269190  9769.1\n",
      "- windspeed           1  30717842  447002619  9793.6\n",
      "- factor(mnth)       11  56630559  472915337  9814.8\n",
      "- factor(season)      3  52094569  468379347  9823.7\n",
      "- factor(weathersit)  2  64280982  480565760  9844.5\n",
      "- temp                1  70299831  486584608  9855.6\n",
      "- yr                  1 711362396 1127647174 10470.0\n"
     ]
    },
    {
     "data": {
      "text/plain": [
       "\n",
       "Call:\n",
       "lm(formula = cnt ~ factor(season) + yr + factor(mnth) + holiday + \n",
       "    factor(weekday) + factor(weathersit) + temp + hum + windspeed)\n",
       "\n",
       "Residuals:\n",
       "    Min      1Q  Median      3Q     Max \n",
       "-3960.9  -350.9    74.1   456.0  2919.9 \n",
       "\n",
       "Coefficients:\n",
       "                     Estimate Std. Error t value Pr(>|t|)    \n",
       "(Intercept)          1543.552    235.129   6.565 1.01e-10 ***\n",
       "factor(season)2       889.302    179.516   4.954 9.12e-07 ***\n",
       "factor(season)3       832.236    213.204   3.903 0.000104 ***\n",
       "factor(season)4      1578.947    181.040   8.722  < 2e-16 ***\n",
       "yr                   2018.063     58.225  34.660  < 2e-16 ***\n",
       "factor(mnth)2         136.855    143.747   0.952 0.341396    \n",
       "factor(mnth)3         545.132    165.480   3.294 0.001036 ** \n",
       "factor(mnth)4         456.494    247.615   1.844 0.065667 .  \n",
       "factor(mnth)5         723.520    267.541   2.704 0.007010 ** \n",
       "factor(mnth)6         490.552    281.776   1.741 0.082133 .  \n",
       "factor(mnth)7           8.404    313.395   0.027 0.978613    \n",
       "factor(mnth)8         404.912    301.494   1.343 0.179700    \n",
       "factor(mnth)9         983.948    264.698   3.717 0.000217 ***\n",
       "factor(mnth)10        520.937    241.636   2.156 0.031432 *  \n",
       "factor(mnth)11       -111.362    230.816  -0.482 0.629621    \n",
       "factor(mnth)12        -84.389    182.229  -0.463 0.643439    \n",
       "holiday              -603.605    180.066  -3.352 0.000845 ***\n",
       "factor(weekday)1      214.877    109.508   1.962 0.050133 .  \n",
       "factor(weekday)2      309.132    107.171   2.884 0.004041 ** \n",
       "factor(weekday)3      377.407    107.467   3.512 0.000473 ***\n",
       "factor(weekday)4      385.206    107.562   3.581 0.000366 ***\n",
       "factor(weekday)5      428.604    107.258   3.996 7.12e-05 ***\n",
       "factor(weekday)6      438.699    106.590   4.116 4.32e-05 ***\n",
       "factor(weathersit)2  -465.202     77.083  -6.035 2.57e-09 ***\n",
       "factor(weathersit)3 -1981.357    196.670 -10.075  < 2e-16 ***\n",
       "temp                 4487.305    411.838  10.896  < 2e-16 ***\n",
       "hum                 -1518.178    292.208  -5.196 2.68e-07 ***\n",
       "windspeed           -2925.438    406.175  -7.202 1.53e-12 ***\n",
       "---\n",
       "Signif. codes:  0 '***' 0.001 '**' 0.01 '*' 0.05 '.' 0.1 ' ' 1\n",
       "\n",
       "Residual standard error: 769.5 on 703 degrees of freedom\n",
       "Multiple R-squared:  0.848,\tAdjusted R-squared:  0.8422 \n",
       "F-statistic: 145.3 on 27 and 703 DF,  p-value: < 2.2e-16\n"
      ]
     },
     "metadata": {},
     "output_type": "display_data"
    }
   ],
   "source": [
    "set.seed(1)\n",
    "\n",
    "s3 <- step(lm(cnt~factor(season)+yr+factor(mnth)+holiday+factor(weekday)+workingday+factor(weathersit)+temp+atemp+hum+windspeed),\n",
    "           direction=\"backward\")\n",
    "summary(s3)"
   ]
  },
  {
   "cell_type": "markdown",
   "metadata": {},
   "source": [
    "# Future Work "
   ]
  },
  {
   "cell_type": "markdown",
   "metadata": {},
   "source": [
    "### Ridge Regression"
   ]
  },
  {
   "cell_type": "code",
   "execution_count": 17,
   "metadata": {
    "collapsed": true
   },
   "outputs": [],
   "source": [
    "library(MASS)"
   ]
  },
  {
   "cell_type": "code",
   "execution_count": 57,
   "metadata": {
    "collapsed": false
   },
   "outputs": [
    {
     "data": {
      "text/plain": [
       "                        factor(season)2     factor(season)3     factor(season)4 \n",
       "       1.506729e+03        8.832914e+02        8.257037e+02        1.569005e+03 \n",
       "                 yr       factor(mnth)2       factor(mnth)3       factor(mnth)4 \n",
       "       2.020289e+03        1.399872e+02        5.477330e+02        4.498089e+02 \n",
       "      factor(mnth)5       factor(mnth)6       factor(mnth)7       factor(mnth)8 \n",
       "       7.463275e+02        5.067703e+02        3.779684e+01        4.565941e+02 \n",
       "      factor(mnth)9      factor(mnth)10      factor(mnth)11      factor(mnth)12 \n",
       "       1.007029e+03        5.283004e+02       -1.029279e+02       -8.855847e+01 \n",
       "            holiday    factor(weekday)1    factor(weekday)2    factor(weekday)3 \n",
       "       7.267451e+15       -7.267451e+15       -7.267451e+15       -7.267451e+15 \n",
       "   factor(weekday)4    factor(weekday)5    factor(weekday)6          workingday \n",
       "      -7.267451e+15       -7.267451e+15        4.375683e+02        7.267451e+15 \n",
       "factor(weathersit)2 factor(weathersit)3                temp               atemp \n",
       "      -4.637728e+02       -1.967608e+03        2.923893e+03        1.722980e+03 \n",
       "                hum           windspeed \n",
       "      -1.543696e+03       -2.832891e+03 "
      ]
     },
     "metadata": {},
     "output_type": "display_data"
    }
   ],
   "source": [
    "set.seed(1)\n",
    "\n",
    "lm.ridge(cnt~factor(season)+yr+factor(mnth)+holiday+factor(weekday)+workingday+factor(weathersit)+temp+atemp+hum\n",
    "                  +windspeed,bikeshare)"
   ]
  },
  {
   "cell_type": "code",
   "execution_count": 52,
   "metadata": {
    "collapsed": false
   },
   "outputs": [],
   "source": [
    "library(glmnet)"
   ]
  },
  {
   "cell_type": "markdown",
   "metadata": {},
   "source": [
    "### Lasso Regression"
   ]
  },
  {
   "cell_type": "code",
   "execution_count": 51,
   "metadata": {
    "collapsed": false
   },
   "outputs": [
    {
     "data": {
      "text/plain": [
       "\n",
       "Call:  glmnet(x = l_data, y = l_target, family = \"gaussian\", alpha = 1,      standardize = TRUE) \n",
       "\n",
       "      Df   %Dev  Lambda\n",
       " [1,]  0 0.0000 1830.00\n",
       " [2,]  1 0.1518 1668.00\n",
       " [3,]  1 0.2778 1520.00\n",
       " [4,]  1 0.3824 1385.00\n",
       " [5,]  1 0.4693 1262.00\n",
       " [6,]  1 0.5414 1150.00\n",
       " [7,]  1 0.6013 1047.00\n",
       " [8,]  2 0.6516  954.40\n",
       " [9,]  2 0.7108  869.60\n",
       "[10,]  2 0.7599  792.30\n",
       "[11,]  2 0.8006  722.00\n",
       "[12,]  2 0.8345  657.80\n",
       "[13,]  2 0.8626  599.40\n",
       "[14,]  2 0.8859  546.10\n",
       "[15,]  2 0.9053  497.60\n",
       "[16,]  2 0.9214  453.40\n",
       "[17,]  2 0.9347  413.10\n",
       "[18,]  2 0.9458  376.40\n",
       "[19,]  2 0.9550  343.00\n",
       "[20,]  2 0.9626  312.50\n",
       "[21,]  2 0.9690  284.80\n",
       "[22,]  2 0.9743  259.50\n",
       "[23,]  2 0.9786  236.40\n",
       "[24,]  2 0.9823  215.40\n",
       "[25,]  2 0.9853  196.30\n",
       "[26,]  2 0.9878  178.80\n",
       "[27,]  2 0.9898  162.90\n",
       "[28,]  2 0.9916  148.50\n",
       "[29,]  2 0.9930  135.30\n",
       "[30,]  2 0.9942  123.30\n",
       "[31,]  2 0.9952  112.30\n",
       "[32,]  2 0.9960  102.30\n",
       "[33,]  2 0.9967   93.24\n",
       "[34,]  2 0.9972   84.96\n",
       "[35,]  2 0.9977   77.41\n",
       "[36,]  2 0.9981   70.54\n",
       "[37,]  2 0.9984   64.27\n",
       "[38,]  2 0.9987   58.56\n",
       "[39,]  2 0.9989   53.36\n",
       "[40,]  2 0.9991   48.62"
      ]
     },
     "metadata": {},
     "output_type": "display_data"
    },
    {
     "data": {
      "text/plain": [
       "          Length Class     Mode   \n",
       "a0         40    -none-    numeric\n",
       "beta      560    dgCMatrix S4     \n",
       "df         40    -none-    numeric\n",
       "dim         2    -none-    numeric\n",
       "lambda     40    -none-    numeric\n",
       "dev.ratio  40    -none-    numeric\n",
       "nulldev     1    -none-    numeric\n",
       "npasses     1    -none-    numeric\n",
       "jerr        1    -none-    numeric\n",
       "offset      1    -none-    logical\n",
       "call        6    -none-    call   \n",
       "nobs        1    -none-    numeric"
      ]
     },
     "metadata": {},
     "output_type": "display_data"
    }
   ],
   "source": [
    "set.seed(1)\n",
    "\n",
    "l_data <- as.matrix(subset(bikeshare,select=-c(cnt,dteday)))\n",
    "l_target <- as.matrix(subset(bikeshare,select=c(cnt)))\n",
    "\n",
    "l1 <- glmnet(l_data, l_target, family='gaussian', alpha=1, standardize=TRUE)\n",
    "l1\n",
    "summary(l1)"
   ]
  },
  {
   "cell_type": "markdown",
   "metadata": {},
   "source": [
    "### Elastic Net Regression"
   ]
  },
  {
   "cell_type": "code",
   "execution_count": 53,
   "metadata": {
    "collapsed": false
   },
   "outputs": [],
   "source": [
    "library(elasticnet)"
   ]
  },
  {
   "cell_type": "code",
   "execution_count": 56,
   "metadata": {
    "collapsed": false
   },
   "outputs": [
    {
     "data": {
      "text/plain": [
       "\n",
       "Call:\n",
       "enet(x = en_data, y = en_target, lambda = 0.5)\n",
       "Sequence of  moves:\n",
       "     registered casual atemp temp instant yr weathersit season windspeed hum\n",
       "Var          14     13    10    9       1  3          8      2        12  11\n",
       "Step          1      2     3    4       5  6          7      8         9  10\n",
       "     workingday weekday holiday mnth   \n",
       "Var           7       6       5    4 15\n",
       "Step         11      12      13   14 15"
      ]
     },
     "metadata": {},
     "output_type": "display_data"
    },
    {
     "data": {
      "text/plain": [
       "          Length Class  Mode     \n",
       "call        4    -none- call     \n",
       "actions    15    -none- list     \n",
       "allset     14    -none- numeric  \n",
       "beta.pure 210    -none- numeric  \n",
       "vn         14    -none- character\n",
       "mu          1    -none- numeric  \n",
       "normx      14    -none- numeric  \n",
       "meanx      14    -none- numeric  \n",
       "lambda      1    -none- numeric  \n",
       "L1norm     15    -none- numeric  \n",
       "penalty    15    -none- numeric  \n",
       "df         15    -none- numeric  \n",
       "Cp         15    -none- numeric  \n",
       "sigma2      1    -none- numeric  "
      ]
     },
     "metadata": {},
     "output_type": "display_data"
    }
   ],
   "source": [
    "set.seed(1)\n",
    "\n",
    "en_data <- as.matrix(subset(bikeshare,select=-c(cnt,dteday)))\n",
    "en_target <- as.matrix(subset(bikeshare,select=c(cnt)))\n",
    "\n",
    "en1 <- enet(en_data,en_target,lambda=0.5)\n",
    "en1\n",
    "summary(en1)"
   ]
  }
 ],
 "metadata": {
  "anaconda-cloud": {},
  "kernelspec": {
   "display_name": "R",
   "language": "R",
   "name": "ir"
  },
  "language_info": {
   "codemirror_mode": "r",
   "file_extension": ".r",
   "mimetype": "text/x-r-source",
   "name": "R",
   "pygments_lexer": "r",
   "version": "3.3.2"
  }
 },
 "nbformat": 4,
 "nbformat_minor": 1
}
